{
 "cells": [
  {
   "cell_type": "markdown",
   "id": "0c594d8f-c7e8-4e80-92c5-0801f11aa0a5",
   "metadata": {},
   "source": [
    "### Encapsulation\n",
    "• refers to restricting direct access to object data and modifying it only through controlled methods.\n"
   ]
  },
  {
   "cell_type": "markdown",
   "id": "5e546577-7805-45ce-9927-2ac6a802a64f",
   "metadata": {},
   "source": [
    "#### Public Members"
   ]
  },
  {
   "cell_type": "code",
   "execution_count": 3,
   "id": "e451096a-a925-4d66-bc47-ff2ba4cbbec1",
   "metadata": {},
   "outputs": [
    {
     "name": "stdout",
     "output_type": "stream",
     "text": [
      "Tesla\n",
      "Model S\n",
      "Car: Tesla Model S\n"
     ]
    }
   ],
   "source": [
    "class Car:\n",
    "    def __init__(self, brand , model):\n",
    "        self.brand = brand      # public attribute\n",
    "        self.model = model      # public attribute\n",
    "\n",
    "    def display_info(self):\n",
    "        print(f\"Car: {self.brand} {self.model}\")\n",
    "\n",
    "# creating an object\n",
    "my_car = Car(\"Tesla\", \"Model S\")\n",
    "\n",
    "# Accessing public attributes directly\n",
    "print(my_car.brand)  # Tesla\n",
    "print(my_car.model)  # Model S\n",
    "\n",
    "# Accessing public method\n",
    "my_car.display_info()"
   ]
  },
  {
   "cell_type": "markdown",
   "id": "aed31d04-8f62-45a9-8436-e0eef5c903bf",
   "metadata": {},
   "source": [
    "#### Protected Members"
   ]
  },
  {
   "cell_type": "code",
   "execution_count": 5,
   "id": "c8b350f8-4e2c-4f2d-aec1-bac25152108d",
   "metadata": {},
   "outputs": [
    {
     "name": "stdout",
     "output_type": "stream",
     "text": [
      "Electric\n",
      "Tesla has a Electric engine.\n",
      "Accessing protected attribute: Electric\n",
      "Tesla has a Electric engine.\n"
     ]
    }
   ],
   "source": [
    "class Car:\n",
    "    def __init__(self, brand, model, engine_type):\n",
    "        self.brand = brand               # Public\n",
    "        self._engine_type = engine_type  # Protected attribute\n",
    "\n",
    "    def _engine_info(self):              # Protected method\n",
    "        print(f\"{self.brand} has a {self._engine_type} engine.\")\n",
    "\n",
    "class ElectricCar(Car):\n",
    "    def display_engine(self):\n",
    "        print(f\"Accessing protected attribute: {self._engine_type}\")\n",
    "        self._engine_info()              # Accessing protected method\n",
    "\n",
    "# Creating an object\n",
    "tesla = ElectricCar(\"Tesla\", \"Model 3\", \"Electric\")\n",
    "\n",
    "# Accessing protected attribute (allowed but discouraged)\n",
    "print(tesla._engine_type)         #  Works, but bad practice\n",
    "\n",
    "# Accessing protected method (allowed but discouraged)\n",
    "tesla._engine_info()              #  Works, but should be used within subclass\n",
    "\n",
    "# Accessing protected member inside subclass\n",
    "tesla.display_engine()\n"
   ]
  },
  {
   "cell_type": "markdown",
   "id": "7fc89a9b-cd25-43ff-97b9-6fbda67fa654",
   "metadata": {},
   "source": [
    "#### Private Members"
   ]
  },
  {
   "cell_type": "code",
   "execution_count": 8,
   "id": "3ee2959c-3ca3-47bd-b44c-8c6cf3289d37",
   "metadata": {},
   "outputs": [
    {
     "name": "stdout",
     "output_type": "stream",
     "text": [
      "5000\n",
      "5000\n"
     ]
    }
   ],
   "source": [
    "class BankAccount:\n",
    "    def __init__(self, owner, balance):\n",
    "        self.owner = owner     # public\n",
    "        self.__balance = balance # private \n",
    "\n",
    "    def deposit(self, amount):\n",
    "        self.__balance += amount    \n",
    "\n",
    "    def get_balance(self):\n",
    "        return self.__balance\n",
    "\n",
    "# creating an object\n",
    "account = BankAccount(\"ABC\", 5000)\n",
    "\n",
    "# print(account.__balance)  # AttributeError\n",
    "\n",
    "# Accessing private attribute using name mangling\n",
    "print(account._BankAccount__balance)  #  Works but discouraged\n",
    "print(account.get_balance())"
   ]
  },
  {
   "cell_type": "markdown",
   "id": "dba7c025-f45a-4e43-a669-d859f7cbf0f2",
   "metadata": {},
   "source": [
    "#### Getters and Setters\n",
    "• Getter ( get_ ) -> retrieves a private attribute.\n",
    "\n",
    "• Setter (set_ ) -> modifies a private attribute with validation."
   ]
  },
  {
   "cell_type": "code",
   "execution_count": 12,
   "id": "33ebd699-fbb2-4e61-ae17-57772d6a11e0",
   "metadata": {},
   "outputs": [
    {
     "name": "stdout",
     "output_type": "stream",
     "text": [
      "20\n",
      "25\n",
      "Age must be positive!\n"
     ]
    }
   ],
   "source": [
    "# Encapsulation ensures that only valid modifications are allowed.\n",
    "class Student:\n",
    "    def __init__(self, name, age):\n",
    "        self.name = name\n",
    "        self.__age = age   # private\n",
    "\n",
    "    def get_age(self):   # getter method\n",
    "        return self.__age\n",
    "\n",
    "    def set_age(self, age):  # setter method\n",
    "        if age > 0:\n",
    "            self.__age = age\n",
    "        else:\n",
    "            print(\"Age must be positive!\")\n",
    "\n",
    "# creating an object\n",
    "student = Student(\"Jack\", 2\n",
    "                  0)\n",
    "\n",
    "print(student.get_age())\n",
    "\n",
    "student.set_age(25)\n",
    "print(student.get_age())\n",
    "\n",
    "student.set_age(-5)"
   ]
  },
  {
   "cell_type": "markdown",
   "id": "0a49fac6-be57-40ef-a3b5-310feeb89459",
   "metadata": {},
   "source": [
    "#### Using '@property' Decorator"
   ]
  },
  {
   "cell_type": "code",
   "execution_count": 13,
   "id": "71e17bd5-0966-441e-be82-a73325323312",
   "metadata": {},
   "outputs": [
    {
     "name": "stdout",
     "output_type": "stream",
     "text": [
      "50000\n",
      "60000\n",
      "Salary must be positive!\n"
     ]
    }
   ],
   "source": [
    "class Employee:\n",
    "    def __init__(self, name, salary):\n",
    "        self.name = name\n",
    "        self.__salary = salary  # Private attribute\n",
    "\n",
    "    @property\n",
    "    def salary(self):  # Getter\n",
    "        return self.__salary\n",
    "\n",
    "    @salary.setter\n",
    "    def salary(self, amount):  # Setter\n",
    "        if amount > 0:\n",
    "            self.__salary = amount\n",
    "        else:\n",
    "            print(\"Salary must be positive!\")\n",
    "\n",
    "# Creating an object\n",
    "emp = Employee(\"Bob\", 50000)\n",
    "\n",
    "# Accessing salary using property\n",
    "print(emp.salary)  # ✅ 50000\n",
    "\n",
    "# Modifying salary using setter\n",
    "emp.salary = 60000\n",
    "print(emp.salary)  # ✅ 60000\n",
    "\n",
    "# Trying to set an invalid salary\n",
    "emp.salary = -10000  # ❌ Salary must be positive!"
   ]
  },
  {
   "cell_type": "code",
   "execution_count": null,
   "id": "91cc8b8b-be0c-48c6-918f-4ff69cd4ceeb",
   "metadata": {},
   "outputs": [],
   "source": []
  }
 ],
 "metadata": {
  "kernelspec": {
   "display_name": "Python 3 (ipykernel)",
   "language": "python",
   "name": "python3"
  },
  "language_info": {
   "codemirror_mode": {
    "name": "ipython",
    "version": 3
   },
   "file_extension": ".py",
   "mimetype": "text/x-python",
   "name": "python",
   "nbconvert_exporter": "python",
   "pygments_lexer": "ipython3",
   "version": "3.8.20"
  }
 },
 "nbformat": 4,
 "nbformat_minor": 5
}
