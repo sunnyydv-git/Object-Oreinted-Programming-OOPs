{
 "cells": [
  {
   "cell_type": "markdown",
   "id": "a0577d3b-13d9-43b6-8265-b78c828aad7f",
   "metadata": {},
   "source": [
    "### Inheritance\n",
    "• It is a concept where a class (child class) derives properties and behavior (methods) from another class (parent class).  \n",
    "• It allows code reuse and extends functionalities without modifying the existing code.  \n",
    "• Changes in the parent class affect all derived classes."
   ]
  },
  {
   "cell_type": "markdown",
   "id": "453cff0f-e2a9-4f52-873a-8d40b2f61434",
   "metadata": {},
   "source": [
    "#### Single Inheritance"
   ]
  },
  {
   "cell_type": "code",
   "execution_count": 12,
   "id": "a961a6bf-e832-49cd-82f5-68299f8ee166",
   "metadata": {},
   "outputs": [
    {
     "name": "stdout",
     "output_type": "stream",
     "text": [
      "Tommy\n",
      "Bark\n"
     ]
    }
   ],
   "source": [
    "# a child class inherits from a single parent class.\n",
    "# The child class can extend or modify the behavior of the parent class.\n",
    "\n",
    "class Animal:\n",
    "    def __init__(self, name):\n",
    "        self.name = name\n",
    "\n",
    "    def speak(self):\n",
    "        return \"I make a sound\"\n",
    "\n",
    "# child class\n",
    "class Dog(Animal):\n",
    "    def speak(self):   # Method overriding\n",
    "        return \"Bark\"\n",
    "\n",
    "\n",
    "# Create an object of the child class\n",
    "dog = Dog(\"Tommy\")\n",
    "print(dog.name)\n",
    "print(dog.speak())"
   ]
  },
  {
   "cell_type": "markdown",
   "id": "a4c7bfba-9e72-4d54-8059-a392476d50ac",
   "metadata": {},
   "source": [
    "#### Multilevel Inheritance"
   ]
  },
  {
   "cell_type": "code",
   "execution_count": 11,
   "id": "45598bc2-1928-438a-936f-d44e7ef62902",
   "metadata": {},
   "outputs": [
    {
     "name": "stdout",
     "output_type": "stream",
     "text": [
      "Husky\n",
      "Yip! Yip!\n"
     ]
    }
   ],
   "source": [
    "#  a class is derived from another derived class.\n",
    "# Changes in the parent class affect all derived classes.\n",
    "\n",
    "class Animal:\n",
    "    def __init__(self, name):\n",
    "        self.name = name\n",
    "\n",
    "    def speak(self):\n",
    "        return \"I make a sound\"\n",
    "\n",
    "# child class\n",
    "class Dog(Animal):\n",
    "    def speak(self):   # Method overriding\n",
    "        return \"Bark\"\n",
    "\n",
    "# Grandchild class\n",
    "class Puppy(Dog):\n",
    "    def speak(self):\n",
    "        return \"Yip! Yip!\"\n",
    "\n",
    "# Creating objects\n",
    "puppy = Puppy(\"Husky\")\n",
    "print(puppy.name)   # Output: Charlie\n",
    "print(puppy.speak())  # Output: Yip! Yip!"
   ]
  },
  {
   "cell_type": "markdown",
   "id": "962b0e75-88aa-4af1-871b-a01cb612d10f",
   "metadata": {},
   "source": [
    "#### Multiple Inheritance"
   ]
  },
  {
   "cell_type": "code",
   "execution_count": 10,
   "id": "30ff255d-69b5-47b3-aef2-439c5cfe1fa3",
   "metadata": {},
   "outputs": [
    {
     "name": "stdout",
     "output_type": "stream",
     "text": [
      "Engine Started\n",
      "Battery Charging\n",
      "Driving Electric Car\n"
     ]
    }
   ],
   "source": [
    "#  a class inherits from multiple parent classes.\n",
    "# The child class can access methods from multiple parents.\n",
    "\n",
    "# parent class 1\n",
    "class Engine:\n",
    "    def start(self):\n",
    "        return \"Engine Started\"\n",
    "\n",
    "# parent class 2\n",
    "class Battery:\n",
    "    def charge(self):\n",
    "        return \"Battery Charging\"\n",
    "\n",
    "# child class\n",
    "class ElectricCar(Engine, Battery):\n",
    "    def drive(self):\n",
    "        return \"Driving Electric Car\"\n",
    "\n",
    "# creating an object\n",
    "car = ElectricCar()\n",
    "print(car.start())\n",
    "print(car.charge())\n",
    "print(car.drive())"
   ]
  },
  {
   "cell_type": "markdown",
   "id": "b5eedefb-dbff-44e5-966e-59f82db2381f",
   "metadata": {},
   "source": [
    "#### Hierarchical Inheritance"
   ]
  },
  {
   "cell_type": "code",
   "execution_count": 8,
   "id": "5c8fbe2f-4f65-471e-8dc4-b700428bcf4c",
   "metadata": {},
   "outputs": [
    {
     "name": "stdout",
     "output_type": "stream",
     "text": [
      "Bark\n",
      "Meow\n"
     ]
    }
   ],
   "source": [
    "# multiple child classes inherit from a single parent.\n",
    "# Each child overrides the speak() method differently.\n",
    "\n",
    "# parent class\n",
    "class Animal:\n",
    "    def speak(self):\n",
    "        return \"some sound\"\n",
    "\n",
    "# child class 1\n",
    "class Dog(Animal):\n",
    "    def speak(self):\n",
    "        return \"Bark\"\n",
    "\n",
    "# child class 2\n",
    "class Cat(Animal):\n",
    "    def speak(self):\n",
    "        return \"Meow\"\n",
    "\n",
    "# Creating objects\n",
    "dog = Dog()\n",
    "cat = Cat()\n",
    "print(dog.speak())  \n",
    "print(cat.speak())  "
   ]
  },
  {
   "cell_type": "markdown",
   "id": "f4f0eb4f-9113-4e55-90d1-84ec0bfaba82",
   "metadata": {},
   "source": [
    "#### Hybrid Inheritance"
   ]
  },
  {
   "cell_type": "code",
   "execution_count": 13,
   "id": "deed503a-ef30-44ee-8fe2-fd634b28ec4e",
   "metadata": {},
   "outputs": [
    {
     "name": "stdout",
     "output_type": "stream",
     "text": [
      "Bark\n",
      "True\n"
     ]
    }
   ],
   "source": [
    "# Hybrid inheritance is a mix of two or more types of inheritance.\n",
    "\n",
    "# Parent class\n",
    "class Animal:\n",
    "    def speak(self):\n",
    "        return \"Some sound\"\n",
    "\n",
    "# Intermediate class\n",
    "class Mammal(Animal):\n",
    "    def has_fur(self):\n",
    "        return True\n",
    "\n",
    "# Multiple inheritance\n",
    "class Dog(Mammal, Animal):\n",
    "    def speak(self):\n",
    "        return \"Bark\"\n",
    "\n",
    "dog = Dog()\n",
    "print(dog.speak()) \n",
    "print(dog.has_fur())  "
   ]
  },
  {
   "cell_type": "markdown",
   "id": "3e796b99-057e-4ad4-bd37-8ffe04772e43",
   "metadata": {},
   "source": [
    "#### \"Super()\" Method in  Inheritance"
   ]
  },
  {
   "cell_type": "code",
   "execution_count": 16,
   "id": "d14e41ca-3356-404c-acc2-b9d07da049d6",
   "metadata": {},
   "outputs": [
    {
     "name": "stdout",
     "output_type": "stream",
     "text": [
      "parent class method overridden in Child class\n"
     ]
    }
   ],
   "source": [
    "# The super() function allows us to call methods from the parent class inside the child class.\n",
    "\n",
    "class Parent:\n",
    "    def show(self):\n",
    "        return \"parent class method\"\n",
    "\n",
    "class Child(Parent):\n",
    "    def show(self):\n",
    "        return super().show() + \" overridden in Child class\"\n",
    "\n",
    "obj = Child()\n",
    "print(obj.show())"
   ]
  },
  {
   "cell_type": "markdown",
   "id": "59289f2e-61c6-4d1e-9d2f-f523e72fb1a6",
   "metadata": {},
   "source": [
    "#### Method Resolution Order (MRO)"
   ]
  },
  {
   "cell_type": "code",
   "execution_count": 17,
   "id": "ef6a1f06-f1fd-42ec-ac32-60c7ad5a7880",
   "metadata": {},
   "outputs": [
    {
     "name": "stdout",
     "output_type": "stream",
     "text": [
      "B\n",
      "[<class '__main__.D'>, <class '__main__.B'>, <class '__main__.C'>, <class '__main__.A'>, <class 'object'>]\n"
     ]
    }
   ],
   "source": [
    "# determine the method calling sequence in multiple inheritance.\n",
    "\n",
    "class A:\n",
    "    def show(self):\n",
    "        return \"A\"\n",
    "\n",
    "class B(A):\n",
    "    def show(self):\n",
    "        return \"B\"\n",
    "\n",
    "class C(A):\n",
    "    def show(self):\n",
    "        return \"C\"\n",
    "\n",
    "class D(B, C):\n",
    "    pass\n",
    "\n",
    "d = D()\n",
    "print(d.show()) \n",
    "print(D.mro())  "
   ]
  },
  {
   "cell_type": "code",
   "execution_count": null,
   "id": "5f5b4389-1d18-44cf-8c6f-d5f5674a52e2",
   "metadata": {},
   "outputs": [],
   "source": []
  }
 ],
 "metadata": {
  "kernelspec": {
   "display_name": "Python 3 (ipykernel)",
   "language": "python",
   "name": "python3"
  },
  "language_info": {
   "codemirror_mode": {
    "name": "ipython",
    "version": 3
   },
   "file_extension": ".py",
   "mimetype": "text/x-python",
   "name": "python",
   "nbconvert_exporter": "python",
   "pygments_lexer": "ipython3",
   "version": "3.8.20"
  }
 },
 "nbformat": 4,
 "nbformat_minor": 5
}
