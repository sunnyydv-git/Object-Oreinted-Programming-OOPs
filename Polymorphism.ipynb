{
 "cells": [
  {
   "cell_type": "markdown",
   "id": "aad42d33-8134-4fdb-b576-40b84e7ac424",
   "metadata": {},
   "source": [
    "### Polymorphism\n",
    "• It allows methods to take different forms depending on the object calling them.  \n",
    "• It helps in writing flexible and scalable code by enabling different classes to have methods with the same name but different implementations."
   ]
  },
  {
   "cell_type": "markdown",
   "id": "c1d59333-e7dd-456b-901a-865c3e89b00e",
   "metadata": {},
   "source": [
    "#### Method Overriding"
   ]
  },
  {
   "cell_type": "code",
   "execution_count": 1,
   "id": "5c3077aa-238d-44ab-887c-f652ca5f3ea1",
   "metadata": {},
   "outputs": [
    {
     "name": "stdout",
     "output_type": "stream",
     "text": [
      "Dog barks\n",
      "Cat meows\n",
      "Animal makes a sound\n"
     ]
    }
   ],
   "source": [
    "# overridden method in the subclass must have the same name as in the parent class.\n",
    "\n",
    "class Animal:\n",
    "    def make_sound(self):\n",
    "        print(\"Animal makes a sound\")\n",
    "\n",
    "class Dog(Animal):\n",
    "    def make_sound(self):\n",
    "        print(\"Dog barks\")\n",
    "\n",
    "class Cat(Animal):\n",
    "    def make_sound(self):\n",
    "        print(\"Cat meows\")\n",
    "\n",
    "# Polymorphism in action\n",
    "animals = [Dog(), Cat(), Animal()]\n",
    "for animal in animals:\n",
    "    animal.make_sound()\n"
   ]
  },
  {
   "cell_type": "markdown",
   "id": "f05a6b8a-f58a-4d47-b116-d2764c2ec1f5",
   "metadata": {},
   "source": [
    "#### Method Overloading"
   ]
  },
  {
   "cell_type": "code",
   "execution_count": 2,
   "id": "840e71cf-7b7c-4c4d-84cd-88b263f31686",
   "metadata": {},
   "outputs": [
    {
     "name": "stdout",
     "output_type": "stream",
     "text": [
      "5\n",
      "15\n",
      "35\n"
     ]
    }
   ],
   "source": [
    "# Overloading using Default Arguments\n",
    "\n",
    "class MathOperations:\n",
    "    def add(self, a, b=0, c=0):\n",
    "        return a + b + c\n",
    "\n",
    "math_obj = MathOperations()\n",
    "print(math_obj.add(5))       # Output: 5\n",
    "print(math_obj.add(5, 10))   # Output: 15\n",
    "print(math_obj.add(5, 10, 20))  # Output: 35\n"
   ]
  },
  {
   "cell_type": "code",
   "execution_count": 3,
   "id": "9096063c-c614-4add-bdcf-d4c52ef1bc5a",
   "metadata": {},
   "outputs": [
    {
     "name": "stdout",
     "output_type": "stream",
     "text": [
      "5\n",
      "15\n",
      "65\n"
     ]
    }
   ],
   "source": [
    "# Overloading using *args\n",
    "\n",
    "class MathOperations:\n",
    "    def add(self, *args):\n",
    "        return sum(args)\n",
    "\n",
    "math_obj = MathOperations()\n",
    "print(math_obj.add(5))            # Output: 5\n",
    "print(math_obj.add(5, 10))        # Output: 15\n",
    "print(math_obj.add(5, 10, 20, 30))  # Output: 65\n"
   ]
  },
  {
   "cell_type": "markdown",
   "id": "77ffbf30-cba1-44d2-a4ae-52f53ed8cc6b",
   "metadata": {},
   "source": [
    "#### Operator Overloading"
   ]
  },
  {
   "cell_type": "code",
   "execution_count": 4,
   "id": "e7535358-67f5-430d-b7c4-a777ea63c865",
   "metadata": {},
   "outputs": [
    {
     "name": "stdout",
     "output_type": "stream",
     "text": [
      "(6, 8)\n",
      "False\n",
      "True\n"
     ]
    }
   ],
   "source": [
    "class Point:\n",
    "    def __init__(self, x, y):\n",
    "        self.x = x\n",
    "        self.y = y\n",
    "\n",
    "    def __add__(self, other):\n",
    "        return Point(self.x + other.x, self.y + other.y)\n",
    "\n",
    "    def __eq__(self, other):\n",
    "        return self.x == other.x and self.y == other.y\n",
    "\n",
    "    def __str__(self):\n",
    "        return f\"({self.x}, {self.y})\"\n",
    "\n",
    "p1 = Point(2, 3)\n",
    "p2 = Point(4, 5)\n",
    "p3 = Point(2, 3)\n",
    "\n",
    "print(p1 + p2)   \n",
    "print(p1 == p2)  \n",
    "print(p1 == p3)  \n"
   ]
  },
  {
   "cell_type": "markdown",
   "id": "a0413bf0-c9f2-4fb4-afe9-1f8a52c8746c",
   "metadata": {},
   "source": [
    "#### Duck Typing"
   ]
  },
  {
   "cell_type": "code",
   "execution_count": 5,
   "id": "bfa4f28b-aef1-4e4e-9bd3-a491b49ecfae",
   "metadata": {},
   "outputs": [
    {
     "name": "stdout",
     "output_type": "stream",
     "text": [
      "Bird can fly\n",
      "Airplane can fly\n"
     ]
    },
    {
     "ename": "AttributeError",
     "evalue": "'Fish' object has no attribute 'fly'",
     "output_type": "error",
     "traceback": [
      "\u001b[1;31m---------------------------------------------------------------------------\u001b[0m",
      "\u001b[1;31mAttributeError\u001b[0m                            Traceback (most recent call last)",
      "Cell \u001b[1;32mIn[5], line 21\u001b[0m\n\u001b[0;32m     19\u001b[0m test_flying(Bird())      \n\u001b[0;32m     20\u001b[0m test_flying(Airplane())  \n\u001b[1;32m---> 21\u001b[0m \u001b[43mtest_flying\u001b[49m\u001b[43m(\u001b[49m\u001b[43mFish\u001b[49m\u001b[43m(\u001b[49m\u001b[43m)\u001b[49m\u001b[43m)\u001b[49m\n",
      "Cell \u001b[1;32mIn[5], line 16\u001b[0m, in \u001b[0;36mtest_flying\u001b[1;34m(obj)\u001b[0m\n\u001b[0;32m     15\u001b[0m \u001b[38;5;28;01mdef\u001b[39;00m \u001b[38;5;21mtest_flying\u001b[39m(obj):\n\u001b[1;32m---> 16\u001b[0m     \u001b[43mobj\u001b[49m\u001b[38;5;241;43m.\u001b[39;49m\u001b[43mfly\u001b[49m()\n",
      "\u001b[1;31mAttributeError\u001b[0m: 'Fish' object has no attribute 'fly'"
     ]
    }
   ],
   "source": [
    "# It is a concept where the type of an object is determined by its behavior rather than its inheritance.\n",
    "\n",
    "class Bird:\n",
    "    def fly(self):\n",
    "        print(\"Bird can fly\")\n",
    "\n",
    "class Airplane:\n",
    "    def fly(self):\n",
    "        print(\"Airplane can fly\")\n",
    "\n",
    "class Fish:\n",
    "    def swim(self):\n",
    "        print(\"Fish can swim\")\n",
    "\n",
    "def test_flying(obj):\n",
    "    obj.fly()  # No type checking!\n",
    "\n",
    "\n",
    "test_flying(Bird())      \n",
    "test_flying(Airplane())  \n",
    "test_flying(Fish())   # AttributeError\n"
   ]
  },
  {
   "cell_type": "markdown",
   "id": "d1dc607d-e12c-4cd2-8f8e-8b0383d231c5",
   "metadata": {},
   "source": [
    "### Payment Processing System"
   ]
  },
  {
   "cell_type": "code",
   "execution_count": 6,
   "id": "81677ef7-74a4-4bd8-aafe-d735be678c51",
   "metadata": {},
   "outputs": [
    {
     "name": "stdout",
     "output_type": "stream",
     "text": [
      "Paid 100 using Credit Card\n",
      "Paid 200 using PayPal\n",
      "Paid 300 using Bitcoin\n"
     ]
    }
   ],
   "source": [
    "class Payment:\n",
    "    def pay(self, amount):\n",
    "        raise NotImplementedError(\"Subclass must implement abstract method\")\n",
    "\n",
    "class CreditCard(Payment):\n",
    "    def pay(self, amount):\n",
    "        print(f\"Paid {amount} using Credit Card\")\n",
    "\n",
    "class PayPal(Payment):\n",
    "    def pay(self, amount):\n",
    "        print(f\"Paid {amount} using PayPal\")\n",
    "\n",
    "class Bitcoin(Payment):\n",
    "    def pay(self, amount):\n",
    "        print(f\"Paid {amount} using Bitcoin\")\n",
    "\n",
    "# Function using polymorphism\n",
    "def process_payment(payment_method, amount):\n",
    "    payment_method.pay(amount)\n",
    "\n",
    "# Different payment objects\n",
    "cc = CreditCard()\n",
    "pp = PayPal()\n",
    "btc = Bitcoin()\n",
    "\n",
    "# Processing payments using different methods\n",
    "process_payment(cc, 100)   \n",
    "process_payment(pp, 200)   \n",
    "process_payment(btc, 300)  "
   ]
  },
  {
   "cell_type": "code",
   "execution_count": null,
   "id": "de09bd6d-6ce3-4b53-b5dd-de0747df7c45",
   "metadata": {},
   "outputs": [],
   "source": []
  }
 ],
 "metadata": {
  "kernelspec": {
   "display_name": "Python 3 (ipykernel)",
   "language": "python",
   "name": "python3"
  },
  "language_info": {
   "codemirror_mode": {
    "name": "ipython",
    "version": 3
   },
   "file_extension": ".py",
   "mimetype": "text/x-python",
   "name": "python",
   "nbconvert_exporter": "python",
   "pygments_lexer": "ipython3",
   "version": "3.8.20"
  }
 },
 "nbformat": 4,
 "nbformat_minor": 5
}
