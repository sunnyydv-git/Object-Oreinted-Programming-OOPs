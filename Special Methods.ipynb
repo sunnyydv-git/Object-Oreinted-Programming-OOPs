{
 "cells": [
  {
   "cell_type": "markdown",
   "id": "a1660cf3-1e6b-4652-9b25-b45438d59f2a",
   "metadata": {},
   "source": [
    "#### Object Initilization (__init__)"
   ]
  },
  {
   "cell_type": "code",
   "execution_count": 2,
   "id": "0bcd00e8-05f1-4e84-a0ae-071cfc6d3512",
   "metadata": {},
   "outputs": [
    {
     "name": "stdout",
     "output_type": "stream",
     "text": [
      "Hi, I'm Sunny and I'm 22 years old.\n"
     ]
    }
   ],
   "source": [
    "class Person:\n",
    "    def __init__(self, name, age):\n",
    "        self.name = name\n",
    "        self.age = age\n",
    "\n",
    "    def introduce(self):\n",
    "        return f\"Hi, I'm {self.name} and I'm {self.age} years old.\"\n",
    "\n",
    "p1 = Person(\"Sunny\", 22)\n",
    "print(p1.introduce())  \n"
   ]
  },
  {
   "cell_type": "markdown",
   "id": "42a33fb1-7192-41bb-b5a0-003ee685b3be",
   "metadata": {},
   "source": [
    "#### String Representation"
   ]
  },
  {
   "cell_type": "code",
   "execution_count": 3,
   "id": "f920be13-ce45-494c-a548-d9a2016ae576",
   "metadata": {},
   "outputs": [
    {
     "name": "stdout",
     "output_type": "stream",
     "text": [
      "Sunny, Age: 22\n",
      "Person('Sunny', 22)\n"
     ]
    }
   ],
   "source": [
    "class Person:\n",
    "    def __init__(self, name, age):\n",
    "        self.name = name\n",
    "        self.age = age\n",
    "\n",
    "    def __str__(self):\n",
    "        return f\"{self.name}, Age: {self.age}\"\n",
    "\n",
    "    def __repr__(self):\n",
    "        return f\"Person('{self.name}', {self.age})\"\n",
    "\n",
    "p1 = Person(\"Sunny\", 22)\n",
    "print(str(p1))  # Calls __str__()\n",
    "print(repr(p1))  # Calls __repr__()"
   ]
  },
  {
   "cell_type": "markdown",
   "id": "318fef7b-ea8d-47df-b5e8-13b1b680367d",
   "metadata": {},
   "source": [
    "#### Operator Overloading"
   ]
  },
  {
   "cell_type": "code",
   "execution_count": 5,
   "id": "cd7b5870-85c0-45da-9d68-e971bbce7840",
   "metadata": {},
   "outputs": [
    {
     "name": "stdout",
     "output_type": "stream",
     "text": [
      "True\n",
      "False\n"
     ]
    }
   ],
   "source": [
    "class Person:\n",
    "    def __init__(self, name, age):\n",
    "        self.name = name\n",
    "        self.age = age\n",
    "\n",
    "    def __eq__(self, other):\n",
    "        return self.age == other.age    # compare based on age\n",
    "\n",
    "p1 = Person(\"A\", 25)\n",
    "p2 = Person(\"B\", 25)\n",
    "p3 = Person(\"C\", 30)\n",
    "\n",
    "print(p1 == p2)  # True\n",
    "print(p1 == p3)  # False"
   ]
  },
  {
   "cell_type": "code",
   "execution_count": 7,
   "id": "ec957edb-dfd4-4d90-b00e-dc1e2c85c4ac",
   "metadata": {},
   "outputs": [
    {
     "name": "stdout",
     "output_type": "stream",
     "text": [
      "Vector(6, 8)\n"
     ]
    }
   ],
   "source": [
    "class Vector:\n",
    "    def __init__(self, x, y):\n",
    "        self.x = x\n",
    "        self.y = y\n",
    "\n",
    "    def __add__(self, other):\n",
    "        return Vector(self.x + other.x, self.y + other.y)\n",
    "\n",
    "    def __str__(self):\n",
    "        return f\"Vector({self.x}, {self.y})\"\n",
    "\n",
    "v1 = Vector(2, 3)\n",
    "v2 = Vector(4, 5)\n",
    "result = v1 + v2  # Calls __add__()\n",
    "print(result)  \n"
   ]
  },
  {
   "cell_type": "markdown",
   "id": "b672ef7e-91be-4b86-9d7d-81ee5664ff91",
   "metadata": {},
   "source": [
    "#### Custom Length (len)"
   ]
  },
  {
   "cell_type": "code",
   "execution_count": 9,
   "id": "9fac8680-6fef-4b30-81e4-714d00af5653",
   "metadata": {},
   "outputs": [
    {
     "name": "stdout",
     "output_type": "stream",
     "text": [
      "3\n"
     ]
    }
   ],
   "source": [
    "class Team:\n",
    "    def __init__(self, members):\n",
    "        self.members = members\n",
    "\n",
    "    def __len__(self):\n",
    "        return len(self.members)\n",
    "\n",
    "team = Team([\"A\", \"B\", \"C\"])\n",
    "print(len(team)) \n"
   ]
  },
  {
   "cell_type": "markdown",
   "id": "8fb2f8bd-3b01-4d45-a525-da3b4f1ed2c2",
   "metadata": {},
   "source": [
    "#### Custom Indexing (getitem), (setitem), etc"
   ]
  },
  {
   "cell_type": "code",
   "execution_count": 10,
   "id": "5449e6a1-d179-4766-9bf6-e45b44873d2a",
   "metadata": {},
   "outputs": [
    {
     "name": "stdout",
     "output_type": "stream",
     "text": [
      "Song B\n",
      "['Song A', 'New Song', 'Song C']\n",
      "['New Song', 'Song C']\n"
     ]
    }
   ],
   "source": [
    "class Playlist:\n",
    "    def __init__(self, songs):\n",
    "        self.songs = songs\n",
    "\n",
    "    def __getitem__(self, index):\n",
    "        return self.songs[index]\n",
    "\n",
    "    def __setitem__(self, index, value):\n",
    "        self.songs[index] = value\n",
    "\n",
    "    def __delitem__(self, index):\n",
    "        del self.songs[index]\n",
    "\n",
    "playlist = Playlist([\"Song A\", \"Song B\", \"Song C\"])\n",
    "print(playlist[1])  \n",
    "\n",
    "playlist[1] = \"New Song\"\n",
    "print(playlist.songs)\n",
    "\n",
    "del playlist[0]\n",
    "print(playlist.songs)  "
   ]
  },
  {
   "cell_type": "markdown",
   "id": "a02dc363-05d5-436a-8507-0743c28cca1c",
   "metadata": {},
   "source": [
    "#### Making Objects Callable (call)"
   ]
  },
  {
   "cell_type": "code",
   "execution_count": 11,
   "id": "a70fe9e5-3454-4787-b269-37a14650987c",
   "metadata": {},
   "outputs": [
    {
     "name": "stdout",
     "output_type": "stream",
     "text": [
      "20\n"
     ]
    }
   ],
   "source": [
    "class Multiplier:\n",
    "    def __init__(self, factor):\n",
    "        self.factor = factor\n",
    "\n",
    "    def __call__(self, num):\n",
    "        return num * self.factor\n",
    "\n",
    "double = Multiplier(2)\n",
    "print(double(10))  \n"
   ]
  },
  {
   "cell_type": "markdown",
   "id": "8427bc55-7e58-4fe3-98cb-d08d7d64156b",
   "metadata": {},
   "source": [
    "#### Managing Object Lifecycle (del)"
   ]
  },
  {
   "cell_type": "code",
   "execution_count": 12,
   "id": "abda1d77-7a92-410f-9548-52b129d963d2",
   "metadata": {},
   "outputs": [
    {
     "name": "stdout",
     "output_type": "stream",
     "text": [
      "Opening file: data.txt\n",
      "Closing file: data.txt\n"
     ]
    }
   ],
   "source": [
    "class FileManager:\n",
    "    def __init__(self, filename):\n",
    "        self.filename = filename\n",
    "        print(f\"Opening file: {self.filename}\")\n",
    "\n",
    "    def __del__(self):\n",
    "        print(f\"Closing file: {self.filename}\")\n",
    "\n",
    "file = FileManager(\"data.txt\")\n",
    "del file  # Explicitly deleting object\n"
   ]
  },
  {
   "cell_type": "code",
   "execution_count": null,
   "id": "f29926a8-a5dd-445c-a8c5-14ddff85f3cf",
   "metadata": {},
   "outputs": [],
   "source": []
  }
 ],
 "metadata": {
  "kernelspec": {
   "display_name": "Python 3 (ipykernel)",
   "language": "python",
   "name": "python3"
  },
  "language_info": {
   "codemirror_mode": {
    "name": "ipython",
    "version": 3
   },
   "file_extension": ".py",
   "mimetype": "text/x-python",
   "name": "python",
   "nbconvert_exporter": "python",
   "pygments_lexer": "ipython3",
   "version": "3.8.20"
  }
 },
 "nbformat": 4,
 "nbformat_minor": 5
}
